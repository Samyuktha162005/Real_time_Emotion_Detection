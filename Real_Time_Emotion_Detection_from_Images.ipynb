{
  "nbformat": 4,
  "nbformat_minor": 0,
  "metadata": {
    "colab": {
      "provenance": []
    },
    "kernelspec": {
      "name": "python3",
      "display_name": "Python 3"
    },
    "language_info": {
      "name": "python"
    }
  },
  "cells": [
    {
      "cell_type": "code",
      "execution_count": null,
      "metadata": {
        "colab": {
          "base_uri": "https://localhost:8080/",
          "height": 1000
        },
        "outputId": "e2b933bb-3533-4342-d82d-1b79f0b38bca",
        "id": "BKIFvXUtI1T6"
      },
      "outputs": [
        {
          "output_type": "stream",
          "name": "stdout",
          "text": [
            "Loading dataset...\n",
            "Skipping row 4872 due to incorrect pixel data length: 1993\n",
            "Building and training model...\n"
          ]
        },
        {
          "output_type": "stream",
          "name": "stderr",
          "text": [
            "/usr/local/lib/python3.11/dist-packages/keras/src/layers/convolutional/base_conv.py:107: UserWarning: Do not pass an `input_shape`/`input_dim` argument to a layer. When using Sequential models, prefer using an `Input(shape)` object as the first layer in the model instead.\n",
            "  super().__init__(activity_regularizer=activity_regularizer, **kwargs)\n"
          ]
        },
        {
          "output_type": "stream",
          "name": "stdout",
          "text": [
            "Epoch 1/15\n",
            "\u001b[1m61/61\u001b[0m \u001b[32m━━━━━━━━━━━━━━━━━━━━\u001b[0m\u001b[37m\u001b[0m \u001b[1m14s\u001b[0m 196ms/step - accuracy: 0.2371 - loss: 1.8593 - val_accuracy: 0.2554 - val_loss: 1.7790\n",
            "Epoch 2/15\n",
            "\u001b[1m61/61\u001b[0m \u001b[32m━━━━━━━━━━━━━━━━━━━━\u001b[0m\u001b[37m\u001b[0m \u001b[1m23s\u001b[0m 230ms/step - accuracy: 0.2680 - loss: 1.7740 - val_accuracy: 0.2964 - val_loss: 1.7292\n",
            "Epoch 3/15\n",
            "\u001b[1m61/61\u001b[0m \u001b[32m━━━━━━━━━━━━━━━━━━━━\u001b[0m\u001b[37m\u001b[0m \u001b[1m18s\u001b[0m 193ms/step - accuracy: 0.3128 - loss: 1.7192 - val_accuracy: 0.3415 - val_loss: 1.6665\n",
            "Epoch 4/15\n",
            "\u001b[1m61/61\u001b[0m \u001b[32m━━━━━━━━━━━━━━━━━━━━\u001b[0m\u001b[37m\u001b[0m \u001b[1m20s\u001b[0m 183ms/step - accuracy: 0.3538 - loss: 1.6655 - val_accuracy: 0.3774 - val_loss: 1.5910\n",
            "Epoch 5/15\n",
            "\u001b[1m61/61\u001b[0m \u001b[32m━━━━━━━━━━━━━━━━━━━━\u001b[0m\u001b[37m\u001b[0m \u001b[1m11s\u001b[0m 176ms/step - accuracy: 0.3930 - loss: 1.5528 - val_accuracy: 0.4000 - val_loss: 1.5639\n",
            "Epoch 6/15\n",
            "\u001b[1m61/61\u001b[0m \u001b[32m━━━━━━━━━━━━━━━━━━━━\u001b[0m\u001b[37m\u001b[0m \u001b[1m21s\u001b[0m 193ms/step - accuracy: 0.4311 - loss: 1.4966 - val_accuracy: 0.3979 - val_loss: 1.5297\n",
            "Epoch 7/15\n",
            "\u001b[1m61/61\u001b[0m \u001b[32m━━━━━━━━━━━━━━━━━━━━\u001b[0m\u001b[37m\u001b[0m \u001b[1m20s\u001b[0m 190ms/step - accuracy: 0.4496 - loss: 1.4542 - val_accuracy: 0.4072 - val_loss: 1.5266\n",
            "Epoch 8/15\n",
            "\u001b[1m61/61\u001b[0m \u001b[32m━━━━━━━━━━━━━━━━━━━━\u001b[0m\u001b[37m\u001b[0m \u001b[1m21s\u001b[0m 191ms/step - accuracy: 0.4613 - loss: 1.4265 - val_accuracy: 0.3805 - val_loss: 1.5304\n",
            "Epoch 9/15\n",
            "\u001b[1m61/61\u001b[0m \u001b[32m━━━━━━━━━━━━━━━━━━━━\u001b[0m\u001b[37m\u001b[0m \u001b[1m21s\u001b[0m 195ms/step - accuracy: 0.4814 - loss: 1.3784 - val_accuracy: 0.4103 - val_loss: 1.5139\n",
            "Epoch 10/15\n",
            "\u001b[1m61/61\u001b[0m \u001b[32m━━━━━━━━━━━━━━━━━━━━\u001b[0m\u001b[37m\u001b[0m \u001b[1m12s\u001b[0m 195ms/step - accuracy: 0.5105 - loss: 1.3255 - val_accuracy: 0.4215 - val_loss: 1.5179\n",
            "Epoch 11/15\n",
            "\u001b[1m61/61\u001b[0m \u001b[32m━━━━━━━━━━━━━━━━━━━━\u001b[0m\u001b[37m\u001b[0m \u001b[1m20s\u001b[0m 184ms/step - accuracy: 0.5310 - loss: 1.2319 - val_accuracy: 0.4113 - val_loss: 1.5064\n",
            "Epoch 12/15\n",
            "\u001b[1m61/61\u001b[0m \u001b[32m━━━━━━━━━━━━━━━━━━━━\u001b[0m\u001b[37m\u001b[0m \u001b[1m11s\u001b[0m 187ms/step - accuracy: 0.5384 - loss: 1.2012 - val_accuracy: 0.4092 - val_loss: 1.5259\n",
            "Epoch 13/15\n",
            "\u001b[1m61/61\u001b[0m \u001b[32m━━━━━━━━━━━━━━━━━━━━\u001b[0m\u001b[37m\u001b[0m \u001b[1m20s\u001b[0m 187ms/step - accuracy: 0.5603 - loss: 1.1550 - val_accuracy: 0.4195 - val_loss: 1.5459\n",
            "Epoch 14/15\n",
            "\u001b[1m61/61\u001b[0m \u001b[32m━━━━━━━━━━━━━━━━━━━━\u001b[0m\u001b[37m\u001b[0m \u001b[1m11s\u001b[0m 188ms/step - accuracy: 0.5882 - loss: 1.1001 - val_accuracy: 0.4215 - val_loss: 1.5677\n",
            "Epoch 15/15\n",
            "\u001b[1m61/61\u001b[0m \u001b[32m━━━━━━━━━━━━━━━━━━━━\u001b[0m\u001b[37m\u001b[0m \u001b[1m20s\u001b[0m 181ms/step - accuracy: 0.6039 - loss: 1.0383 - val_accuracy: 0.4164 - val_loss: 1.5836\n"
          ]
        },
        {
          "output_type": "stream",
          "name": "stderr",
          "text": [
            "WARNING:absl:You are saving your model as an HDF5 file via `model.save()` or `keras.saving.save_model(model)`. This file format is considered legacy. We recommend using instead the native Keras format, e.g. `model.save('my_model.keras')` or `keras.saving.save_model(model, 'my_model.keras')`. \n"
          ]
        },
        {
          "output_type": "stream",
          "name": "stdout",
          "text": [
            "Model saved as emotion_model.h5\n",
            "Testing on sample image from validation set...\n",
            "\u001b[1m1/1\u001b[0m \u001b[32m━━━━━━━━━━━━━━━━━━━━\u001b[0m\u001b[37m\u001b[0m \u001b[1m0s\u001b[0m 97ms/step\n"
          ]
        },
        {
          "output_type": "display_data",
          "data": {
            "text/plain": [
              "<Figure size 640x480 with 1 Axes>"
            ],
            "image/png": "[encoded data removed]"
          },
          "metadata": {}
        },
        {
          "output_type": "stream",
          "name": "stdout",
          "text": [
            "Starting real-time webcam emotion detection...\n"
          ]
        },
        {
          "output_type": "stream",
          "name": "stderr",
          "text": [
            "WARNING:absl:Compiled the loaded model, but the compiled metrics have yet to be built. `model.compile_metrics` will be empty until you train or evaluate the model.\n"
          ]
        }
      ],
      "source": [
        "#Emotion Detection\n",
        "import numpy as np\n",
        "import pandas as pd\n",
        "import matplotlib.pyplot as plt\n",
        "import cv2\n",
        "import os\n",
        "import tensorflow as tf\n",
        "from tensorflow.keras.models import Sequential, load_model\n",
        "from tensorflow.keras.layers import Conv2D, MaxPooling2D, Flatten, Dense, Dropout\n",
        "from tensorflow.keras.utils import to_categorical\n",
        "from sklearn.model_selection import train_test_split\n",
        "\n",
        "#Load & Preprocess Data\n",
        "print(\"Loading dataset...\")\n",
        "data_path = \"fer2013.csv\"\n",
        "\n",
        "if not os.path.exists(data_path):\n",
        "    raise FileNotFoundError(\"Dataset file 'fer2013.csv' not found. Download it from Kaggle.\")\n",
        "\n",
        "data = pd.read_csv(data_path)\n",
        "\n",
        "valid_data = data[data['pixels'].apply(lambda x: len(x.split()) == 48 * 48)].copy()\n",
        "\n",
        "valid_data['pixels'] = valid_data['pixels'].apply(lambda x: np.array(x.split(), dtype='float32').reshape(48, 48, 1))\n",
        "\n",
        "X = np.array(valid_data['pixels'].tolist()) / 255.0\n",
        "y = to_categorical(np.array(valid_data['emotion']), num_classes=7)\n",
        "\n",
        "X_train, X_val, y_train, y_val = train_test_split(X, y, test_size=0.2, random_state=42)\n",
        "\n",
        "#Build and Train Model\n",
        "print(\"Building and training model...\")\n",
        "model = Sequential([\n",
        "    Conv2D(32, (3,3), activation='relu', input_shape=(48,48,1)),\n",
        "    MaxPooling2D(2,2),\n",
        "    Conv2D(64, (3,3), activation='relu'),\n",
        "    MaxPooling2D(2,2),\n",
        "    Flatten(),\n",
        "    Dense(128, activation='relu'),\n",
        "    Dropout(0.5),\n",
        "    Dense(7, activation='softmax')\n",
        "])\n",
        "\n",
        "model.compile(optimizer='adam', loss='categorical_crossentropy', metrics=['accuracy'])\n",
        "model.fit(X_train, y_train, epochs=15, batch_size=64, validation_data=(X_val, y_val))\n",
        "\n",
        "model.save(\"emotion_model.h5\")\n",
        "print(\"Model saved as emotion_model.h5\")\n",
        "\n",
        "#Predict & Visualize Static Image\n",
        "print(\"Testing on sample image from validation set...\")\n",
        "emotion_labels = ['Angry', 'Disgust', 'Fear', 'Happy', 'Sad', 'Surprise', 'Neutral']\n",
        "sample_index = 100\n",
        "\n",
        "test_image = X_val[sample_index]\n",
        "test_label = y_val[sample_index]\n",
        "predicted = model.predict(test_image.reshape(1, 48, 48, 1))\n",
        "predicted_class = emotion_labels[np.argmax(predicted)]\n",
        "\n",
        "plt.imshow(test_image.reshape(48,48), cmap='gray')\n",
        "plt.title(f\"Predicted: {predicted_class} | Actual: {emotion_labels[np.argmax(test_label)]}\")\n",
        "plt.axis('off')\n",
        "plt.show()\n",
        "\n",
        "#Real-Time Emotion Detection\n",
        "print(\"Starting real-time webcam emotion detection...\")\n",
        "cap = cv2.VideoCapture(0)\n",
        "face_cascade = cv2.CascadeClassifier(cv2.data.haarcascades + \"haarcascade_frontalface_default.xml\")\n",
        "model = load_model(\"emotion_model.h5\")\n",
        "\n",
        "while True:\n",
        "    ret, frame = cap.read()\n",
        "    if not ret:\n",
        "        break\n",
        "\n",
        "    grayscale = cv2.cvtColor(frame, cv2.COLOR_BGR2GRAY)\n",
        "    faces = face_cascade.detectMultiScale(grayscale, 1.3, 5)\n",
        "\n",
        "    for (x, y, w, h) in faces:\n",
        "        roi = grayscale[y:y+h, x:x+w]\n",
        "        if roi.shape[0] < 48 or roi.shape[1] < 48:\n",
        "            continue  # skip tiny faces\n",
        "        roi_resized = cv2.resize(roi, (48,48)).reshape(1,48,48,1) / 255.0\n",
        "        prediction = model.predict(roi_resized)\n",
        "        emotion = emotion_labels[np.argmax(prediction)]\n",
        "\n",
        "        cv2.rectangle(frame, (x, y), (x+w, y+h), (0, 255, 0), 2)\n",
        "        cv2.putText(frame, emotion, (x, y-10), cv2.FONT_HERSHEY_SIMPLEX, 0.9, (255,255,255), 2)\n",
        "\n",
        "    cv2.imshow(\"Emotion Detector - Press Q to Exit\", frame)\n",
        "    if cv2.waitKey(1) & 0xFF == ord('q'):\n",
        "        break\n",
        "\n",
        "cap.release()\n",
        "cv2.destroyAllWindows()"
      ]
    },
    {
      "cell_type": "code",
      "source": [],
      "metadata": {
        "id": "N52Rt22yI1T6"
      },
      "execution_count": null,
      "outputs": []
    }
  ]
}